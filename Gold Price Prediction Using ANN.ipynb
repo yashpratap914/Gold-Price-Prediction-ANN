{
 "cells": [
  {
   "cell_type": "code",
   "execution_count": 1,
   "id": "3dc6048a",
   "metadata": {},
   "outputs": [],
   "source": [
    "import pandas as pd\n",
    "import numpy as np \n",
    "from sklearn.model_selection import train_test_split\n",
    "from sklearn.preprocessing import StandardScaler\n",
    "from sklearn.preprocessing import MinMaxScaler"
   ]
  },
  {
   "cell_type": "code",
   "execution_count": 2,
   "id": "0e43658e",
   "metadata": {},
   "outputs": [],
   "source": [
    "import tensorflow as tf\n",
    "from tensorflow import keras\n",
    "from tensorflow.keras import Sequential\n",
    "from tensorflow.keras.layers import Dense"
   ]
  },
  {
   "cell_type": "code",
   "execution_count": 3,
   "id": "a01dc149",
   "metadata": {},
   "outputs": [],
   "source": [
    "df = pd.read_csv('gld_price_data.csv')"
   ]
  },
  {
   "cell_type": "code",
   "execution_count": 4,
   "id": "42246c63",
   "metadata": {},
   "outputs": [
    {
     "data": {
      "text/html": [
       "<div>\n",
       "<style scoped>\n",
       "    .dataframe tbody tr th:only-of-type {\n",
       "        vertical-align: middle;\n",
       "    }\n",
       "\n",
       "    .dataframe tbody tr th {\n",
       "        vertical-align: top;\n",
       "    }\n",
       "\n",
       "    .dataframe thead th {\n",
       "        text-align: right;\n",
       "    }\n",
       "</style>\n",
       "<table border=\"1\" class=\"dataframe\">\n",
       "  <thead>\n",
       "    <tr style=\"text-align: right;\">\n",
       "      <th></th>\n",
       "      <th>Date</th>\n",
       "      <th>SPX</th>\n",
       "      <th>GLD</th>\n",
       "      <th>USO</th>\n",
       "      <th>SLV</th>\n",
       "      <th>EUR/USD</th>\n",
       "    </tr>\n",
       "  </thead>\n",
       "  <tbody>\n",
       "    <tr>\n",
       "      <th>0</th>\n",
       "      <td>01/02/08</td>\n",
       "      <td>1447.160034</td>\n",
       "      <td>84.860001</td>\n",
       "      <td>78.470001</td>\n",
       "      <td>15.180</td>\n",
       "      <td>1.471692</td>\n",
       "    </tr>\n",
       "    <tr>\n",
       "      <th>1</th>\n",
       "      <td>01/03/08</td>\n",
       "      <td>1447.160034</td>\n",
       "      <td>85.570000</td>\n",
       "      <td>78.370003</td>\n",
       "      <td>15.285</td>\n",
       "      <td>1.474491</td>\n",
       "    </tr>\n",
       "    <tr>\n",
       "      <th>2</th>\n",
       "      <td>01/04/08</td>\n",
       "      <td>1411.630005</td>\n",
       "      <td>85.129997</td>\n",
       "      <td>77.309998</td>\n",
       "      <td>15.167</td>\n",
       "      <td>1.475492</td>\n",
       "    </tr>\n",
       "    <tr>\n",
       "      <th>3</th>\n",
       "      <td>01/07/08</td>\n",
       "      <td>1416.180054</td>\n",
       "      <td>84.769997</td>\n",
       "      <td>75.500000</td>\n",
       "      <td>15.053</td>\n",
       "      <td>1.468299</td>\n",
       "    </tr>\n",
       "    <tr>\n",
       "      <th>4</th>\n",
       "      <td>01/08/08</td>\n",
       "      <td>1390.189941</td>\n",
       "      <td>86.779999</td>\n",
       "      <td>76.059998</td>\n",
       "      <td>15.590</td>\n",
       "      <td>1.557099</td>\n",
       "    </tr>\n",
       "  </tbody>\n",
       "</table>\n",
       "</div>"
      ],
      "text/plain": [
       "       Date          SPX        GLD        USO     SLV   EUR/USD\n",
       "0  01/02/08  1447.160034  84.860001  78.470001  15.180  1.471692\n",
       "1  01/03/08  1447.160034  85.570000  78.370003  15.285  1.474491\n",
       "2  01/04/08  1411.630005  85.129997  77.309998  15.167  1.475492\n",
       "3  01/07/08  1416.180054  84.769997  75.500000  15.053  1.468299\n",
       "4  01/08/08  1390.189941  86.779999  76.059998  15.590  1.557099"
      ]
     },
     "execution_count": 4,
     "metadata": {},
     "output_type": "execute_result"
    }
   ],
   "source": [
    "df.head()"
   ]
  },
  {
   "cell_type": "code",
   "execution_count": 5,
   "id": "8eee61cc",
   "metadata": {},
   "outputs": [],
   "source": [
    "x=df[['SPX','USO','SLV','EUR/USD']]\n",
    "y = df['GLD']"
   ]
  },
  {
   "cell_type": "code",
   "execution_count": 6,
   "id": "3c7ec629",
   "metadata": {},
   "outputs": [],
   "source": [
    "x_train, x_test, y_train, y_test = train_test_split(x,y,test_size=0.2)"
   ]
  },
  {
   "cell_type": "code",
   "execution_count": 7,
   "id": "256e5b15",
   "metadata": {},
   "outputs": [],
   "source": [
    "scaler = MinMaxScaler()"
   ]
  },
  {
   "cell_type": "code",
   "execution_count": 8,
   "id": "2741f062",
   "metadata": {},
   "outputs": [],
   "source": [
    "x_train_scaled = scaler.fit_transform(x_train)\n",
    "x_test_scaled = scaler.transform(x_test)"
   ]
  },
  {
   "cell_type": "code",
   "execution_count": 9,
   "id": "cfe2ba71",
   "metadata": {},
   "outputs": [],
   "source": [
    "model = Sequential()"
   ]
  },
  {
   "cell_type": "code",
   "execution_count": 11,
   "id": "07475c82",
   "metadata": {},
   "outputs": [],
   "source": [
    "model.add(Dense(10, activation='relu', input_dim=4))\n",
    "model.add(Dense(10, activation='relu'))\n",
    "model.add(Dense(1, activation ='linear'))"
   ]
  },
  {
   "cell_type": "code",
   "execution_count": 12,
   "id": "3d1d4131",
   "metadata": {},
   "outputs": [],
   "source": [
    "model.compile(loss=\"mean_squared_error\",optimizer='Adam')"
   ]
  },
  {
   "cell_type": "code",
   "execution_count": 13,
   "id": "4fc5479d",
   "metadata": {},
   "outputs": [
    {
     "name": "stdout",
     "output_type": "stream",
     "text": [
      "Epoch 1/50\n",
      "52/52 [==============================] - 2s 8ms/step - loss: 15466.2852 - val_loss: 15385.7637\n",
      "Epoch 2/50\n",
      "52/52 [==============================] - 0s 4ms/step - loss: 15306.4990 - val_loss: 15126.8789\n",
      "Epoch 3/50\n",
      "52/52 [==============================] - 0s 3ms/step - loss: 14823.8398 - val_loss: 14305.1953\n",
      "Epoch 4/50\n",
      "52/52 [==============================] - 0s 3ms/step - loss: 13459.0342 - val_loss: 12219.4268\n",
      "Epoch 5/50\n",
      "52/52 [==============================] - 0s 3ms/step - loss: 10531.6104 - val_loss: 8358.3105\n",
      "Epoch 6/50\n",
      "52/52 [==============================] - 0s 4ms/step - loss: 6100.5454 - val_loss: 3689.3179\n",
      "Epoch 7/50\n",
      "52/52 [==============================] - 0s 3ms/step - loss: 2138.4983 - val_loss: 950.2088\n",
      "Epoch 8/50\n",
      "52/52 [==============================] - 0s 3ms/step - loss: 625.1947 - val_loss: 504.2018\n",
      "Epoch 9/50\n",
      "52/52 [==============================] - 0s 3ms/step - loss: 453.2845 - val_loss: 479.7571\n",
      "Epoch 10/50\n",
      "52/52 [==============================] - 0s 3ms/step - loss: 430.5337 - val_loss: 456.7245\n",
      "Epoch 11/50\n",
      "52/52 [==============================] - 0s 3ms/step - loss: 410.2840 - val_loss: 433.9705\n",
      "Epoch 12/50\n",
      "52/52 [==============================] - 0s 4ms/step - loss: 390.5872 - val_loss: 413.8407\n",
      "Epoch 13/50\n",
      "52/52 [==============================] - 0s 4ms/step - loss: 372.1489 - val_loss: 394.7922\n",
      "Epoch 14/50\n",
      "52/52 [==============================] - 0s 4ms/step - loss: 354.6767 - val_loss: 376.2460\n",
      "Epoch 15/50\n",
      "52/52 [==============================] - 0s 4ms/step - loss: 337.4395 - val_loss: 358.2947\n",
      "Epoch 16/50\n",
      "52/52 [==============================] - 0s 4ms/step - loss: 321.4042 - val_loss: 340.4479\n",
      "Epoch 17/50\n",
      "52/52 [==============================] - 0s 4ms/step - loss: 306.4684 - val_loss: 323.6542\n",
      "Epoch 18/50\n",
      "52/52 [==============================] - 0s 3ms/step - loss: 292.9184 - val_loss: 310.5567\n",
      "Epoch 19/50\n",
      "52/52 [==============================] - 0s 3ms/step - loss: 278.6167 - val_loss: 294.8329\n",
      "Epoch 20/50\n",
      "52/52 [==============================] - 0s 3ms/step - loss: 266.1778 - val_loss: 279.9410\n",
      "Epoch 21/50\n",
      "52/52 [==============================] - 0s 3ms/step - loss: 253.3569 - val_loss: 268.7410\n",
      "Epoch 22/50\n",
      "52/52 [==============================] - 0s 3ms/step - loss: 241.7409 - val_loss: 256.6294\n",
      "Epoch 23/50\n",
      "52/52 [==============================] - 0s 3ms/step - loss: 230.8932 - val_loss: 244.3848\n",
      "Epoch 24/50\n",
      "52/52 [==============================] - 0s 3ms/step - loss: 220.3793 - val_loss: 233.0697\n",
      "Epoch 25/50\n",
      "52/52 [==============================] - 0s 4ms/step - loss: 210.2745 - val_loss: 224.0272\n",
      "Epoch 26/50\n",
      "52/52 [==============================] - 0s 3ms/step - loss: 200.8053 - val_loss: 212.7632\n",
      "Epoch 27/50\n",
      "52/52 [==============================] - 0s 3ms/step - loss: 191.4481 - val_loss: 202.5371\n",
      "Epoch 28/50\n",
      "52/52 [==============================] - 0s 3ms/step - loss: 182.9763 - val_loss: 193.1690\n",
      "Epoch 29/50\n",
      "52/52 [==============================] - 0s 4ms/step - loss: 174.6864 - val_loss: 184.7057\n",
      "Epoch 30/50\n",
      "52/52 [==============================] - 0s 3ms/step - loss: 166.6825 - val_loss: 176.2765\n",
      "Epoch 31/50\n",
      "52/52 [==============================] - 0s 3ms/step - loss: 159.1027 - val_loss: 168.1765\n",
      "Epoch 32/50\n",
      "52/52 [==============================] - 0s 3ms/step - loss: 151.8786 - val_loss: 161.1095\n",
      "Epoch 33/50\n",
      "52/52 [==============================] - 0s 3ms/step - loss: 145.2625 - val_loss: 154.2659\n",
      "Epoch 34/50\n",
      "52/52 [==============================] - 0s 3ms/step - loss: 139.5236 - val_loss: 149.6128\n",
      "Epoch 35/50\n",
      "52/52 [==============================] - 0s 3ms/step - loss: 132.8524 - val_loss: 140.3995\n",
      "Epoch 36/50\n",
      "52/52 [==============================] - 0s 3ms/step - loss: 127.2355 - val_loss: 135.5040\n",
      "Epoch 37/50\n",
      "52/52 [==============================] - 0s 2ms/step - loss: 122.2339 - val_loss: 129.1348\n",
      "Epoch 38/50\n",
      "52/52 [==============================] - 0s 2ms/step - loss: 117.1193 - val_loss: 124.7412\n",
      "Epoch 39/50\n",
      "52/52 [==============================] - 0s 2ms/step - loss: 112.4317 - val_loss: 120.4480\n",
      "Epoch 40/50\n",
      "52/52 [==============================] - 0s 3ms/step - loss: 108.1991 - val_loss: 114.6149\n",
      "Epoch 41/50\n",
      "52/52 [==============================] - 0s 3ms/step - loss: 104.5324 - val_loss: 111.4160\n",
      "Epoch 42/50\n",
      "52/52 [==============================] - 0s 2ms/step - loss: 100.8637 - val_loss: 106.8872\n",
      "Epoch 43/50\n",
      "52/52 [==============================] - 0s 3ms/step - loss: 97.4220 - val_loss: 103.7419\n",
      "Epoch 44/50\n",
      "52/52 [==============================] - 0s 3ms/step - loss: 94.3106 - val_loss: 100.1966\n",
      "Epoch 45/50\n",
      "52/52 [==============================] - 0s 2ms/step - loss: 91.6536 - val_loss: 97.5812\n",
      "Epoch 46/50\n",
      "52/52 [==============================] - 0s 2ms/step - loss: 88.9569 - val_loss: 94.6070\n",
      "Epoch 47/50\n",
      "52/52 [==============================] - 0s 2ms/step - loss: 86.6886 - val_loss: 92.3608\n",
      "Epoch 48/50\n",
      "52/52 [==============================] - 0s 2ms/step - loss: 84.9334 - val_loss: 90.1728\n",
      "Epoch 49/50\n",
      "52/52 [==============================] - 0s 3ms/step - loss: 82.8304 - val_loss: 88.3530\n",
      "Epoch 50/50\n",
      "52/52 [==============================] - 0s 3ms/step - loss: 80.9821 - val_loss: 86.8427\n"
     ]
    }
   ],
   "source": [
    "history = model.fit(x_train_scaled, y_train, epochs=50, validation_split=0.1)"
   ]
  },
  {
   "cell_type": "code",
   "execution_count": 14,
   "id": "0d28d6c7",
   "metadata": {},
   "outputs": [
    {
     "name": "stdout",
     "output_type": "stream",
     "text": [
      "15/15 [==============================] - 0s 3ms/step\n"
     ]
    }
   ],
   "source": [
    "y_pred = model.predict(x_test_scaled)"
   ]
  },
  {
   "cell_type": "code",
   "execution_count": 15,
   "id": "daf79c95",
   "metadata": {},
   "outputs": [],
   "source": [
    "from sklearn.metrics import r2_score"
   ]
  },
  {
   "cell_type": "code",
   "execution_count": 16,
   "id": "2d08bc4d",
   "metadata": {},
   "outputs": [
    {
     "data": {
      "text/plain": [
       "0.7950445103278558"
      ]
     },
     "execution_count": 16,
     "metadata": {},
     "output_type": "execute_result"
    }
   ],
   "source": [
    "r2_score(y_test, y_pred)"
   ]
  },
  {
   "cell_type": "code",
   "execution_count": null,
   "id": "0c758674",
   "metadata": {},
   "outputs": [],
   "source": []
  }
 ],
 "metadata": {
  "kernelspec": {
   "display_name": "Python 3 (ipykernel)",
   "language": "python",
   "name": "python3"
  },
  "language_info": {
   "codemirror_mode": {
    "name": "ipython",
    "version": 3
   },
   "file_extension": ".py",
   "mimetype": "text/x-python",
   "name": "python",
   "nbconvert_exporter": "python",
   "pygments_lexer": "ipython3",
   "version": "3.9.13"
  }
 },
 "nbformat": 4,
 "nbformat_minor": 5
}
